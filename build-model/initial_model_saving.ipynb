{
 "cells": [
  {
   "cell_type": "code",
   "execution_count": null,
   "id": "ea5a89ea-f41f-47de-8e0d-fbfa7901afdf",
   "metadata": {},
   "outputs": [],
   "source": [
    "!pip install boto3==1.35.55 botocore==1.35.55"
   ]
  },
  {
   "cell_type": "code",
   "execution_count": null,
   "id": "1bd790cf-15b8-4d63-a85d-ef0c8a63c55f",
   "metadata": {},
   "outputs": [],
   "source": [
    "import os\n",
    "import boto3\n",
    "import botocore\n",
    "\n",
    "aws_access_key_id = os.environ.get('AWS_ACCESS_KEY_ID')\n",
    "aws_secret_access_key = os.environ.get('AWS_SECRET_ACCESS_KEY')\n",
    "endpoint_url = os.environ.get('AWS_S3_ENDPOINT')\n",
    "region_name = os.environ.get('AWS_DEFAULT_REGION')\n",
    "bucket_name = os.environ.get('AWS_S3_BUCKET')\n",
    "\n",
    "if not all([aws_access_key_id, aws_secret_access_key, endpoint_url, region_name, bucket_name]):\n",
    "    raise ValueError(\"One or more connection variables are empty.  \"\n",
    "                     \"Please check your connection to an S3 bucket.\")\n",
    "\n",
    "session = boto3.session.Session(aws_access_key_id=aws_access_key_id,\n",
    "                                aws_secret_access_key=aws_secret_access_key)\n",
    "\n",
    "s3_resource = session.resource(\n",
    "    's3',\n",
    "    config=botocore.client.Config(signature_version='s3v4'),\n",
    "    endpoint_url=endpoint_url,\n",
    "    region_name=region_name)\n",
    "\n",
    "bucket = s3_resource.Bucket(bucket_name)\n",
    "\n",
    "\n",
    "def upload_directory_to_s3(local_directory, s3_prefix):\n",
    "    next_version = get_next_version(list_objects(\"models\"))\n",
    "    \n",
    "    num_files = 0\n",
    "    for root, dirs, files in os.walk(local_directory):\n",
    "        for filename in files:\n",
    "            local_file_path = os.path.join(root, filename)\n",
    "            file_path = os.path.join('distance', next_version, filename)\n",
    "            s3_key = os.path.join(s3_prefix, file_path)\n",
    "            print(f\"{local_file_path} -> {s3_key}\")\n",
    "            #bucket.upload_file(local_file_path, s3_key)\n",
    "            num_files += 1\n",
    "    return num_files\n",
    "\n",
    "\n",
    "def list_objects(prefix):\n",
    "    objects = []\n",
    "    filter = bucket.objects.filter(Prefix=prefix)\n",
    "    for obj in filter.all():\n",
    "        objects.append(obj.key)\n",
    "    return objects\n",
    "\n",
    "\n",
    "def get_next_version(models):\n",
    "    model_versions = [int(x.split('models/distance/')[1].split('/')[0]) for x in models]\n",
    "    next_version = str(max(model_versions) + 1)\n",
    "    return next_version"
   ]
  },
  {
   "cell_type": "code",
   "execution_count": null,
   "id": "46465cd7-1128-4761-8689-68daf61e8168",
   "metadata": {},
   "outputs": [],
   "source": [
    "local_models_directory = \"models\"\n",
    "\n",
    "if not os.path.isdir(local_models_directory):\n",
    "    raise ValueError(f\"The directory '{local_models_directory}' does not exist.  \"\n",
    "                     \"Did you finish training the model in the previous notebook?\")\n",
    "\n",
    "num_files = upload_directory_to_s3(\"models\", \"models\")\n",
    "\n",
    "if num_files == 0:\n",
    "    raise ValueError(\"No files uploaded.  Did you finish training and \"\n",
    "                     \"saving the model to the \\\"models\\\" directory?  \"\n",
    "                     \"Check for \\\"models/fraud/1/model.onnx\\\"\")\n"
   ]
  },
  {
   "cell_type": "code",
   "execution_count": null,
   "id": "f10b46d1-5646-4ae0-9d97-f4e7b1eb71d4",
   "metadata": {},
   "outputs": [],
   "source": [
    "get_next_version(list_objects(\"models\"))"
   ]
  },
  {
   "cell_type": "code",
   "execution_count": null,
   "id": "f15a7a4a-5806-471a-991f-52729fa08c47",
   "metadata": {},
   "outputs": [],
   "source": []
  }
 ],
 "metadata": {
  "kernelspec": {
   "display_name": "Python 3.11",
   "language": "python",
   "name": "python3"
  },
  "language_info": {
   "codemirror_mode": {
    "name": "ipython",
    "version": 3
   },
   "file_extension": ".py",
   "mimetype": "text/x-python",
   "name": "python",
   "nbconvert_exporter": "python",
   "pygments_lexer": "ipython3",
   "version": "3.11.11"
  }
 },
 "nbformat": 4,
 "nbformat_minor": 5
}
