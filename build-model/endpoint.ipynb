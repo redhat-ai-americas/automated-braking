{
 "cells": [
  {
   "cell_type": "code",
   "execution_count": null,
   "id": "922e1826",
   "metadata": {},
   "outputs": [],
   "source": [
    "%pip install -q ultralytics"
   ]
  },
  {
   "cell_type": "code",
   "execution_count": null,
   "id": "abea7c07",
   "metadata": {},
   "outputs": [],
   "source": [
    "from ultralytics import YOLO\n",
    "\n",
    "model = YOLO('yolov10s.pt')"
   ]
  },
  {
   "cell_type": "code",
   "execution_count": null,
   "metadata": {},
   "outputs": [],
   "source": [
    "import cv2\n",
    "image_bgr = cv2.imread(\"car-in-front.jpg\")"
   ]
  },
  {
   "cell_type": "code",
   "execution_count": null,
   "id": "ad203a33",
   "metadata": {},
   "outputs": [],
   "source": [
    "import matplotlib.pyplot as plt\n",
    "from copy import deepcopy\n",
    "\n",
    "frame = deepcopy(image_bgr)\n",
    "prediction = model.predict(frame)\n",
    "for result in prediction[0].boxes:\n",
    "    x1, y1, x2, y2 = result.xyxy[0].cpu().numpy()  # Move tensor to CPU before converting to NumPy\n",
    "    model_class = int(result.cls[0].cpu().numpy())\n",
    "    if model_class in {2, 3, 5, 7}:\n",
    "        cv2.rectangle(frame, (int(x1), int(y1)), (int(x2), int(y2)), (0, 255, 0), 10)\n",
    "image_rgb = cv2.cvtColor(frame, cv2.COLOR_BGR2RGB)\n",
    "\n",
    "# Display the image using Matplotlib\n",
    "plt.imshow(image_rgb)\n",
    "plt.title(\"Displayed Image\")\n",
    "plt.axis('off')  # Hide the axis ticks and labels\n",
    "plt.show()"
   ]
  },
  {
   "cell_type": "code",
   "execution_count": null,
   "id": "8282d8e7-d0f0-4850-907c-f43c5a421a63",
   "metadata": {},
   "outputs": [],
   "source": [
    "from os import getenv\n",
    "\n",
    "model_version = '1'\n",
    "\n",
    "deployed_model_name = f\"distance-{model_version}\"\n",
    "infer_endpoint = f\"https://distance-{model_version}-distance-prediction{getenv(\"BASE_URL\")}\"\n",
    "infer_url = f\"{infer_endpoint}/v2/models/{deployed_model_name}/infer\"\n",
    "print(infer_url)"
   ]
  },
  {
   "cell_type": "code",
   "execution_count": null,
   "id": "e27f753c-aea7-41e2-8797-47a666fc667d",
   "metadata": {},
   "outputs": [],
   "source": [
    "import requests\n",
    "\n",
    "def rest_request(data):\n",
    "    json_data = {\n",
    "        \"inputs\": [\n",
    "            {\n",
    "                \"name\": \"dense_input\",\n",
    "                \"shape\": [1, 6],\n",
    "                \"datatype\": \"FP32\",\n",
    "                \"data\": data\n",
    "            }\n",
    "        ]\n",
    "    }\n",
    "\n",
    "    headers = { \"Authorization\": f\"Bearer {getenv(\"TOKEN\")}\" }\n",
    "    response = requests.post(infer_url, json=json_data, verify=False, headers=headers)\n",
    "    response_dict = response.json()\n",
    "    return response_dict['outputs'][0]['data']"
   ]
  },
  {
   "cell_type": "code",
   "execution_count": null,
   "id": "1f70f2b4-c8be-49a6-b8f8-53d67cb6bf59",
   "metadata": {},
   "outputs": [],
   "source": [
    "data = [336.609784, 497.959391, 543.540077, 526.678117, 19, 41.264181]\n",
    "prediction = rest_request(data)\n",
    "print(prediction[0])\n",
    "if prediction[0] > 0.5:\n",
    "    print(\"Car rapidly approaching, braking hard!\")"
   ]
  },
  {
   "cell_type": "code",
   "execution_count": null,
   "id": "80dee98f-5964-4e65-b15a-76ec6fe310b6",
   "metadata": {},
   "outputs": [],
   "source": []
  }
 ],
 "metadata": {
  "kernelspec": {
   "display_name": "Python 3.11",
   "language": "python",
   "name": "python3"
  },
  "language_info": {
   "codemirror_mode": {
    "name": "ipython",
    "version": 3
   },
   "file_extension": ".py",
   "mimetype": "text/x-python",
   "name": "python",
   "nbconvert_exporter": "python",
   "pygments_lexer": "ipython3",
   "version": "3.11.11"
  }
 },
 "nbformat": 4,
 "nbformat_minor": 5
}
