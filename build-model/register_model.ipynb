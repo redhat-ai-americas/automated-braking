{
 "cells": [
  {
   "cell_type": "code",
   "execution_count": null,
   "id": "c55dd822-a9b1-4eea-920b-0b872ee7f8ab",
   "metadata": {},
   "outputs": [],
   "source": [
    "from requests import get, post\n",
    "from os import getenv\n",
    "\n",
    "token=getenv(\"TOKEN\")\n",
    "headers = { \"Authorization\": f\"Bearer {token}\" }"
   ]
  },
  {
   "cell_type": "code",
   "execution_count": null,
   "id": "80a7f550-7ea7-423f-a0d7-bf042459214a",
   "metadata": {},
   "outputs": [],
   "source": [
    "from requests import post\n",
    "from os import getenv\n",
    "\n",
    "base_url = getenv(\"BASE_URL\")\n",
    "model_name = 'distance'\n",
    "response = get(url=f\"https://distance-prediction-rest{base_url}/api/model_registry/v1alpha3/registered_models\",\n",
    "               headers=headers)\n",
    "models = response.json()['items']\n",
    "model_exists = [x for x in models if x['name'] == model_name]\n",
    "\n",
    "if not model_exists:\n",
    "    data = {\n",
    "        \"name\": model_name\n",
    "    }\n",
    "    \n",
    "    new_model = post(url=f\"https://distance-prediction-rest{base_url}/api/model_registry/v1alpha3/registered_models\",\n",
    "               headers=headers, json=data)\n",
    "    new_model\n",
    "    print(\"Created new model\")\n",
    "    model_id = new_model.json()['id']\n",
    "else:\n",
    "    model_id = model_exists[0]['id']"
   ]
  },
  {
   "cell_type": "code",
   "execution_count": null,
   "id": "c907a2e1-6cf8-4ca1-b05d-81fef23e828c",
   "metadata": {},
   "outputs": [],
   "source": [
    "version = \"1.0.1\"\n",
    "data = {\n",
    "    \"author\": \"kube:admin\",\n",
    "    \"name\": version,\n",
    "    \"registeredModelId\": model_id,\n",
    "    \"state\": \"LIVE\"\n",
    "}\n",
    "\n",
    "response = post(url=f\"https://distance-prediction-rest{base_url}/api/model_registry/v1alpha3/model_versions\",\n",
    "               headers=headers,\n",
    "               json=data)\n",
    "model_version_id = response.json()['id']\n",
    "response"
   ]
  },
  {
   "cell_type": "code",
   "execution_count": null,
   "id": "90212669-68b3-446c-bd33-ea216ced2d66",
   "metadata": {},
   "outputs": [],
   "source": [
    "data = {\n",
    "    'artifactType': 'model-artifact',\n",
    "    \"storageKey\": \"aws-connection-my-storage\",\n",
    "    \"name\": version,\n",
    "    \"modelFormatName\": \"onnx\",\n",
    "    \"modelFormatVersion\": \"1\",\n",
    "    \"uri\": \"s3://my-storage/models/distance/1?endpoint=https%3A%2F%2Fminio-s3-distance-prediction.apps.cluster-7px8r.7px8r.sandbox2276.opentlc.com&defaultRegion=us-east-1\",\n",
    "    \"description\": \"Test\",\n",
    "    \"state\": \"LIVE\"\n",
    "}\n",
    "\n",
    "response = post(url=f\"https://distance-prediction-rest{base_url}/api/model_registry/v1alpha3/model_versions/{model_version_id}/artifacts\",\n",
    "               headers=headers,\n",
    "               json=data)\n",
    "response"
   ]
  }
 ],
 "metadata": {
  "kernelspec": {
   "display_name": "Python 3.11",
   "language": "python",
   "name": "python3"
  },
  "language_info": {
   "codemirror_mode": {
    "name": "ipython",
    "version": 3
   },
   "file_extension": ".py",
   "mimetype": "text/x-python",
   "name": "python",
   "nbconvert_exporter": "python",
   "pygments_lexer": "ipython3",
   "version": "3.11.11"
  }
 },
 "nbformat": 4,
 "nbformat_minor": 5
}
