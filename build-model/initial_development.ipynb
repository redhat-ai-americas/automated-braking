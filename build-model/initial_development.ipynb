{
 "cells": [
  {
   "cell_type": "code",
   "execution_count": null,
   "id": "87b4fcd5-1256-4c01-a8c9-5ddbe0eb8f31",
   "metadata": {},
   "outputs": [],
   "source": [
    "%pip install --upgrade pip\n",
    "%pip install psycopg2 onnx==1.17.0 onnxruntime==1.19.2 tf2onnx==1.16.1"
   ]
  },
  {
   "cell_type": "code",
   "execution_count": null,
   "id": "2d910b03-66d2-4df7-b556-15a8383df1fa",
   "metadata": {},
   "outputs": [],
   "source": [
    "from psycopg2 import connect\n",
    "from os import getenv\n",
    "from pandas import read_sql_query\n",
    "\n",
    "try:\n",
    "    conn = connect(dbname=getenv('DBNAME'), user=getenv('USER'), host=getenv('HOST'), password=getenv('PASSWORD'))\n",
    "except Exception as e:\n",
    "    print(\"I am unable to connect to the database\")\n",
    "    print(e)\n",
    "\n",
    "sql_query = \"SELECT * FROM distance.approaching_vehicle WHERE EVENT_TIMESTAMP < NOW()\"\n",
    "data = read_sql_query(sql_query, con=conn)\n",
    "conn.close()"
   ]
  },
  {
   "cell_type": "code",
   "execution_count": null,
   "id": "ca5b8b96-1967-406a-86f4-6752d33f44a8",
   "metadata": {},
   "outputs": [],
   "source": [
    "data.head()"
   ]
  },
  {
   "cell_type": "code",
   "execution_count": null,
   "id": "2ebd8d30-5eed-4700-b9d0-893812d55bdf",
   "metadata": {},
   "outputs": [],
   "source": [
    "from numpy import random\n",
    "from sklearn.model_selection import train_test_split\n",
    "\n",
    "random.default_rng(seed=513421)\n",
    "\n",
    "train_columns = [\n",
    "    \"other_bottom\",\n",
    "    \"other_left\",\n",
    "    \"other_right\",\n",
    "    \"other_top\",\n",
    "    \"other_speed\",\n",
    "    \"your_speed\"\n",
    "]\n",
    "prediction_column = \"brake_amount\"\n",
    "\n",
    "x = data[train_columns].values\n",
    "y = data[prediction_column].values\n",
    "\n",
    "x_train, x_test, y_train, y_test = train_test_split(x, y, test_size=0.2)\n",
    "x_train.shape, x_test.shape"
   ]
  },
  {
   "cell_type": "code",
   "execution_count": null,
   "id": "ec1d58a8-9f4f-4220-a3bb-529e72118edc",
   "metadata": {},
   "outputs": [],
   "source": [
    "from keras.models import Sequential\n",
    "from keras.layers import Dense, Dropout, BatchNormalization, Activation\n",
    "\n",
    "model = Sequential()\n",
    "model.add(Dense(32, activation='relu', input_dim=len(train_columns)))\n",
    "model.add(Dropout(0.2))\n",
    "model.add(Dense(32))\n",
    "model.add(BatchNormalization())\n",
    "model.add(Activation('relu'))\n",
    "model.add(Dropout(0.2))\n",
    "model.add(Dense(32))\n",
    "model.add(BatchNormalization())\n",
    "model.add(Activation('relu'))\n",
    "model.add(Dropout(0.2))\n",
    "model.add(Dense(1, activation='sigmoid'))\n",
    "\n",
    "model.compile(\n",
    "    optimizer='adam',\n",
    "    loss='binary_crossentropy',\n",
    "    metrics=['accuracy']\n",
    ")\n",
    "\n",
    "model.summary()"
   ]
  },
  {
   "cell_type": "code",
   "execution_count": null,
   "id": "513c042e-a52d-45e9-a4ad-3401b3473749",
   "metadata": {},
   "outputs": [],
   "source": [
    "# Train the model and get performance\n",
    "import os\n",
    "import time\n",
    "\n",
    "start = time.time()\n",
    "epochs = 2\n",
    "history = model.fit(\n",
    "    x_train,\n",
    "    y_train,\n",
    "    epochs=epochs,\n",
    "    validation_data=(x_test, y_test),\n",
    "    verbose=True\n",
    ")\n",
    "end = time.time()\n",
    "print(f\"Training of model is complete. Took {end-start} seconds\")"
   ]
  },
  {
   "cell_type": "code",
   "execution_count": null,
   "id": "14f0cb97-e989-46a7-8e24-48fb41014be9",
   "metadata": {},
   "outputs": [],
   "source": [
    "import tensorflow as tf\n",
    "import tf2onnx\n",
    "import onnx\n",
    "import pickle\n",
    "from pathlib import Path\n",
    "\n",
    "# Normally we use tf2.onnx.convert.from_keras.\n",
    "# workaround for tf2onnx bug https://github.com/onnx/tensorflow-onnx/issues/2348\n",
    "\n",
    "# Wrap the model in a `tf.function`\n",
    "@tf.function(input_signature=[tf.TensorSpec([None, X_train.shape[1]], tf.float32, name='dense_input')])\n",
    "def model_fn(x):\n",
    "    return model(x)\n",
    "\n",
    "# Convert the Keras model to ONNX\n",
    "model_proto, _ = tf2onnx.convert.from_function(\n",
    "    model_fn,\n",
    "    input_signature=[tf.TensorSpec([None, X_train.shape[1]], tf.float32, name='dense_input')]\n",
    ")\n",
    "\n",
    "# Save the model as ONNX for easy use of ModelMesh\n",
    "os.makedirs(\"models/distance\", exist_ok=True)\n",
    "onnx.save(model_proto, \"models/distance/model.onnx\")"
   ]
  },
  {
   "cell_type": "code",
   "execution_count": null,
   "id": "3d179f28-6d24-4b4f-b8ad-8339b7eb4441",
   "metadata": {},
   "outputs": [],
   "source": [
    "type(model_proto)"
   ]
  }
 ],
 "metadata": {
  "kernelspec": {
   "display_name": "Python 3.11",
   "language": "python",
   "name": "python3"
  },
  "language_info": {
   "codemirror_mode": {
    "name": "ipython",
    "version": 3
   },
   "file_extension": ".py",
   "mimetype": "text/x-python",
   "name": "python",
   "nbconvert_exporter": "python",
   "pygments_lexer": "ipython3",
   "version": "3.11.11"
  }
 },
 "nbformat": 4,
 "nbformat_minor": 5
}
