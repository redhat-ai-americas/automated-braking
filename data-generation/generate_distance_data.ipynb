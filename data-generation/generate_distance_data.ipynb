{
 "cells": [
  {
   "cell_type": "code",
   "execution_count": null,
   "id": "a17846d6",
   "metadata": {},
   "outputs": [],
   "source": [
    "%load_ext autoreload\n",
    "%autoreload 2"
   ]
  },
  {
   "cell_type": "code",
   "execution_count": null,
   "id": "de72e7d3",
   "metadata": {},
   "outputs": [],
   "source": [
    "num_data = 100000"
   ]
  },
  {
   "cell_type": "code",
   "execution_count": null,
   "id": "b93d5722",
   "metadata": {},
   "outputs": [],
   "source": [
    "%pip uninstall -y codeflare-sdk"
   ]
  },
  {
   "cell_type": "code",
   "execution_count": null,
   "id": "52f5824d",
   "metadata": {},
   "outputs": [],
   "source": [
    "%pip install 'feast[postgres, redis]' psycopg2"
   ]
  },
  {
   "cell_type": "code",
   "execution_count": null,
   "id": "c61afd40",
   "metadata": {},
   "outputs": [],
   "source": [
    "from numpy import arange, random, round, exp, array\n",
    "from numpy.random import seed\n",
    "from datetime import datetime, timedelta\n",
    "\n",
    "\n",
    "seed(123456)\n",
    "images = arange(0, num_data)\n",
    "\n",
    "other_bottom = random.rand(num_data) * 640\n",
    "other_left = random.rand(num_data) * 640\n",
    "other_right = 640 - (640 - other_left) * random.rand(num_data)\n",
    "other_top = 640 - (640 - other_bottom) * random.rand(num_data)\n",
    "\n",
    "other_speed = abs(random.normal(40, 30, num_data))\n",
    "your_speed = abs(random.normal(40, 30, num_data))\n",
    "\n",
    "\n",
    "def logistic_function(x):\n",
    "    \"\"\"\n",
    "    Calculates the logistic (sigmoid) function for a given input x.\n",
    "\n",
    "    Args:\n",
    "        x (float or np.ndarray): The input value(s).\n",
    "\n",
    "    Returns:\n",
    "        float or np.ndarray: The output of the logistic function,\n",
    "                             ranging between 0 and 1.\n",
    "    \"\"\"\n",
    "    return 2 / (1 + exp(-x))\n",
    "\n",
    "size = (other_top - other_bottom) * (other_right - other_left)\n",
    "distance = (640**2) / size - 1\n",
    "relative_speed = other_speed - your_speed\n",
    "relative_pressure = relative_speed - your_speed\n",
    "\n",
    "brake_amount = array([logistic_function(relative_pressure[i] / distance[i]) if distance[i] < 1000 and relative_pressure[i] < 0 else 0. for i in range(num_data)]) + 0.05 * (1 - 2 * random.rand(num_data))\n",
    "brake_amount = array([(1 if x > 1 else (0 if x < 0 else x)) for x in brake_amount])\n",
    "\n",
    "timestamps = [datetime.now() - timedelta(minutes=5 * i) + timedelta(days=30) for i in range(num_data)]"
   ]
  },
  {
   "cell_type": "code",
   "execution_count": null,
   "id": "c1320969-a4e5-4bfd-b55f-0b5463fbed9f",
   "metadata": {},
   "outputs": [],
   "source": [
    "import matplotlib.pyplot as plt\n",
    "\n",
    "ax = plt.gca() # Get the current Axes\n",
    "print(ax)\n",
    "\n",
    "ax.hist(brake_amount, bins=20)"
   ]
  },
  {
   "cell_type": "code",
   "execution_count": null,
   "id": "e767f5f6",
   "metadata": {},
   "outputs": [],
   "source": [
    "from pandas import DataFrame\n",
    "\n",
    "data = DataFrame()\n",
    "data[\"image_id\"] = images\n",
    "data[\"other_bottom\"] = other_bottom\n",
    "data[\"other_left\"] = other_left\n",
    "data[\"other_right\"] = other_right\n",
    "data[\"other_top\"] = other_top\n",
    "data[\"other_speed\"] = other_speed\n",
    "data[\"your_speed\"] = your_speed\n",
    "data[\"brake_amount\"] = brake_amount\n",
    "data[\"event_timestamp\"] = timestamps\n",
    "data[\"created\"] = timestamps"
   ]
  },
  {
   "cell_type": "code",
   "execution_count": null,
   "id": "adf30330",
   "metadata": {
    "scrolled": true
   },
   "outputs": [],
   "source": [
    "from os import getenv\n",
    "from sqlalchemy import create_engine, engine\n",
    "\n",
    "connection_string = engine.URL.create(\n",
    "    drivername=\"postgresql\",\n",
    "    username=getenv('USER'),\n",
    "    password=getenv('PASSWORD'),\n",
    "    host=getenv('HOST'),\n",
    "    database=getenv('DBNAME'),\n",
    ")\n",
    "\n",
    "this_engine = create_engine(connection_string)\n",
    "data.to_sql('approaching_vehicle', schema=\"distance\", con=this_engine, if_exists=\"append\", index=False)"
   ]
  },
  {
   "cell_type": "code",
   "execution_count": null,
   "id": "012f55a8",
   "metadata": {},
   "outputs": [],
   "source": [
    "from psycopg2 import connect\n",
    "from os import getenv\n",
    "\n",
    "try:\n",
    "    conn = connect(dbname=getenv('DBNAME'), user=getenv('USER'), host=getenv('HOST'), password=getenv('PASSWORD'))\n",
    "except Exception as e:\n",
    "    print(\"I am unable to connect to the database\")\n",
    "    print(e)\n",
    "\n",
    "with conn.cursor() as curs:\n",
    "    curs.execute(\"SELECT table_name FROM INFORMATION_SCHEMA.TABLES\")\n",
    "    single_row = curs.fetchone()\n",
    "    print(single_row)\n",
    "\n",
    "conn.close()"
   ]
  },
  {
   "cell_type": "code",
   "execution_count": null,
   "id": "0f246b0e",
   "metadata": {},
   "outputs": [],
   "source": [
    "try:\n",
    "    conn = connect(dbname=getenv('DBNAME'), user=getenv('USER'), host=getenv('HOST'), password=getenv('PASSWORD'))\n",
    "except Exception as e:\n",
    "    print(\"I am unable to connect to the database\")\n",
    "    print(e)\n",
    "\n",
    "with conn.cursor() as curs:\n",
    "    curs.execute(\"SELECT * from distance.approaching_vehicle\")\n",
    "    colnames = [desc[0] for desc in curs.description]\n",
    "    print(colnames)\n",
    "conn.close()"
   ]
  },
  {
   "cell_type": "code",
   "execution_count": null,
   "id": "a3d11dbe-71b7-48a4-b365-d31d5fecc552",
   "metadata": {},
   "outputs": [],
   "source": []
  }
 ],
 "metadata": {
  "kernelspec": {
   "display_name": "Python 3.12",
   "language": "python",
   "name": "python3"
  },
  "language_info": {
   "codemirror_mode": {
    "name": "ipython",
    "version": 3
   },
   "file_extension": ".py",
   "mimetype": "text/x-python",
   "name": "python",
   "nbconvert_exporter": "python",
   "pygments_lexer": "ipython3",
   "version": "3.12.9"
  }
 },
 "nbformat": 4,
 "nbformat_minor": 5
}
